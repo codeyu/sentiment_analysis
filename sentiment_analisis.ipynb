{
 "cells": [
  {
   "cell_type": "markdown",
   "metadata": {},
   "source": [
    "# 1. Doc2Vec method"
   ]
  },
  {
   "cell_type": "markdown",
   "metadata": {},
   "source": [
    "## read saved file"
   ]
  },
  {
   "cell_type": "code",
   "execution_count": 1,
   "metadata": {
    "collapsed": false
   },
   "outputs": [
    {
     "data": {
      "text/plain": [
       "u'/home/zack/Documents/data/reviews/605301'"
      ]
     },
     "execution_count": 1,
     "metadata": {},
     "output_type": "execute_result"
    }
   ],
   "source": [
    "pwd"
   ]
  },
  {
   "cell_type": "code",
   "execution_count": 3,
   "metadata": {
    "collapsed": false
   },
   "outputs": [
    {
     "name": "stdout",
     "output_type": "stream",
     "text": [
      "Book_del_4000_neg.txt\r\n",
      "Book_del_4000_pos.txt\r\n",
      "ChnSentiCorp_htl_ba_4000_neg.txt\r\n",
      "ChnSentiCorp_htl_ba_4000_pos.txt\r\n",
      "Dangdang_Book_neg.txt\r\n",
      "Dangdang_Book_pos.txt\r\n",
      "Jingdong_NB_4000_neg.txt\r\n",
      "Jingdong_NB_4000_pos.txt\r\n"
     ]
    }
   ],
   "source": [
    "ls | grep .txt"
   ]
  },
  {
   "cell_type": "code",
   "execution_count": 7,
   "metadata": {
    "collapsed": false,
    "scrolled": false
   },
   "outputs": [],
   "source": [
    "#!/usr/bin/python\n",
    "# -*- coding: utf-8 -*-\n",
    "import os\n",
    "import numpy as np\n",
    "import gensim\n",
    "\n",
    "from gensim.models.doc2vec import Doc2Vec,LabeledSentence\n",
    "from sklearn.cross_validation import train_test_split\n",
    "\n",
    "%matplotlib inline\n",
    "\n",
    "def get_dataset(write=True):\n",
    "    files = os.listdir('.')\n",
    "    neg_files = [neg for neg in files if neg.endswith(\"neg.txt\")]\n",
    "    pos_files = [pos for pos in files if pos.endswith(\"pos.txt\")]\n",
    "    neg_reviews = []\n",
    "    pos_reviews = []\n",
    "    for i in neg_files:\n",
    "        print 'read data from --', i\n",
    "        with open(i, \"r\") as f:\n",
    "            neg_reviews += (line.decode('utf-8') for line in f.readlines())\n",
    "            \n",
    "    for j in pos_files:\n",
    "        print 'read data from --', j\n",
    "        with open(j, \"r\") as f:\n",
    "            pos_reviews += (line.decode('utf-8') for line in f.readlines())\n",
    "    \n",
    "    print 'done!!!'\n",
    "    print 'neg_reviews: ', len(neg_reviews)\n",
    "    print 'pos_reviews: ', len(pos_reviews)\n",
    "    #print neg_reviews[0]\n",
    "    #y = np.concatenate((np.ones(8000), np.zeros(8000)), axis=0)\n",
    "    #x_train, x_test, y_train, y_test = train_test_split(matrix, y, test_size=0.2)\n",
    "    if(write):\n",
    "        with open('pos_reviews.txt', 'w') as f:\n",
    "            for line in pos_reviews:\n",
    "                f.write(line.encode('utf-8') + '\\n')\n",
    "        with open('neg_reviews.txt', 'w') as f:\n",
    "            for line in neg_reviews:\n",
    "                f.write(line.encode('utf-8') + '\\n')\n",
    "    \n",
    "    y = np.concatenate((np.ones(len(pos_reviews)), np.zeros(len(neg_reviews))))\n",
    "    # 将数据分割为训练与测试集\n",
    "    x_train, x_test, y_train, y_test = train_test_split(np.concatenate((pos_reviews, neg_reviews)), y, test_size=0.2)\n",
    "\n",
    "    # 数据清洗预处理，中文根据需要进行修改\n",
    "    def cleanText(corpus):\n",
    "        punctuation = \"\"\".,?!:;(){}[]，。！？：“‘（）【】；\"\"\".decode('utf-8')\n",
    "        corpus = [z.replace('\\n','') for z in corpus]\n",
    "        corpus = [z.replace('<br />', ' ') for z in corpus]\n",
    "\n",
    "        #treat punctuation as individual words\n",
    "        for c in punctuation:\n",
    "            corpus = [z.replace(c, ' %s '%c) for z in corpus]\n",
    "        corpus = [z.split() for z in corpus]\n",
    "        return corpus\n",
    "\n",
    "    x_train = cleanText(x_train)\n",
    "    x_test = cleanText(x_test)\n",
    "    \n",
    "    #Gensim的Doc2Vec应用于训练要求每一篇文章/句子有一个唯一标识的label.\n",
    "    #我们使用Gensim自带的LabeledSentence方法. 标识的格式为\"TRAIN_i\"和\"TEST_i\"，其中i为序号\n",
    "    def labelizeReviews(reviews, label_type):\n",
    "        labelized = []\n",
    "        for i,v in enumerate(reviews):\n",
    "            label = '%s_%s'%(label_type,i)\n",
    "            labelized.append(LabeledSentence(v, [label]))\n",
    "        return labelized\n",
    "    \n",
    "    print 'labeling documents .......'\n",
    "    x_train = labelizeReviews(x_train, 'TRAIN')\n",
    "    x_test = labelizeReviews(x_test, 'TEST')\n",
    "\n",
    "    return x_train,x_test,y_train, y_test\n",
    "\n",
    "def build_model(x_train, x_test, save=True):\n",
    "    if(save):\n",
    "        big_list = x_train + x_test\n",
    "        model = Doc2Vec(min_count=2, window=10, size=100, sample=1e-4, negative=5, workers=8)\n",
    "        model.build_vocab(big_list)\n",
    "        model.train(big_list)\n",
    "\tprint 'saving model to file.....'  \n",
    "        model.save('./sentim.d2v')\n",
    "    else:\n",
    "\tprint 'loading model from file.....'\n",
    "\tmodel = Doc2Vec.load('./sentim.d2v')\n",
    "    return model\n",
    "\n",
    "def get_vectors(model, x_train, x_test):\n",
    "    print 'getting vectors .........'\n",
    "    \n",
    "    #infer from model\n",
    "    xtrain = []\n",
    "    xtest = []\n",
    "    for doc_id in range(len(x_train)):\n",
    "        inferred_vector = model.infer_vector(x_train[doc_id].words)\n",
    "        xtrain.append(inferred_vector)\n",
    "    for doc_id in range(len(x_test)):\n",
    "        inferred_vector = model.infer_vector(x_test[doc_id].words)\n",
    "        xtest.append(inferred_vector)\n",
    "    return np.array(xtrain), np.array(xtest)\n",
    "    '''\n",
    "    train_tags = []\n",
    "    test_tags = []\n",
    "    for i in range(len(x_train)):\n",
    "        train_tags += x_train[i].tags\n",
    "        \n",
    "    for i in range(len(x_test)):\n",
    "        test_tags += x_test[i].tags\n",
    "        \n",
    "    x_train = [model.docvecs[tag] for tag in train_tags]\n",
    "    x_test = [model.docvecs[tag] for tag in test_tags]\n",
    "    return np.array(x_train), np.array(x_test)\n",
    "    '''   \n",
    "    \n",
    "    \n",
    "def Classifier(x_train,y_train,x_test, y_test):\n",
    "    #使用sklearn的Logistic regression分类器\n",
    "    print 'building classifier ........'\n",
    "    from sklearn.linear_model import LogisticRegression\n",
    "\n",
    "    lr = LogisticRegression(penalty='l1')\n",
    "    lr.fit(x_train, y_train)\n",
    "\n",
    "    print 'Test Accuracy: %.2f'%lr.score(x_test, y_test)\n",
    "\n",
    "    return lr\n",
    "\n",
    "def ROC_curve(lr,y_test):\n",
    "    from sklearn.metrics import roc_curve, auc\n",
    "    import matplotlib.pyplot as plt\n",
    "\n",
    "    pred_probas = lr.predict_proba(x_test)[:,1]\n",
    "\n",
    "    fpr,tpr,_ = roc_curve(y_test, pred_probas)\n",
    "    roc_auc = auc(fpr,tpr)\n",
    "    plt.plot(fpr,tpr,label='area = %.2f' %roc_auc)\n",
    "    plt.plot([0, 1], [0, 1], 'k--')\n",
    "    plt.xlim([0.0, 1.0])\n",
    "    plt.ylim([0.0, 1.05])\n",
    "\n",
    "    plt.show()"
   ]
  },
  {
   "cell_type": "code",
   "execution_count": 8,
   "metadata": {
    "collapsed": false,
    "scrolled": false
   },
   "outputs": [
    {
     "name": "stdout",
     "output_type": "stream",
     "text": [
      "read data from -- Book_del_4000_neg.txt\n",
      "read data from -- Jingdong_NB_4000_neg.txt\n",
      "read data from -- Dangdang_Book_neg.txt\n",
      "read data from -- ChnSentiCorp_htl_ba_4000_neg.txt\n",
      "read data from -- Dangdang_Book_pos.txt\n",
      "read data from -- Jingdong_NB_4000_pos.txt\n",
      "read data from -- ChnSentiCorp_htl_ba_4000_pos.txt\n",
      "read data from -- Book_del_4000_pos.txt\n",
      "done!!!\n",
      "neg_reviews:  8000\n",
      "pos_reviews:  8000\n",
      "labeling documents .......\n",
      "loading model from file.....\n",
      "getting vectors .........\n",
      "building classifier ........\n",
      "Test Accuracy: 0.76\n"
     ]
    },
    {
     "data": {
      "image/png": "[encoded data removed]",
      "text/plain": [
       "<matplotlib.figure.Figure at 0x7f1b552c0890>"
      ]
     },
     "metadata": {},
     "output_type": "display_data"
    }
   ],
   "source": [
    "x_train, x_test, y_train, y_test = get_dataset(write=False)\n",
    "model = build_model(x_train, x_test, save=False)\n",
    "x_train, x_test = get_vectors(model, x_train, x_test)\n",
    "lr = Classifier(x_train, y_train, x_test, y_test)\n",
    "ROC_curve(lr, y_test)"
   ]
  },
  {
   "cell_type": "markdown",
   "metadata": {},
   "source": [
    "## print relevance documents"
   ]
  },
  {
   "cell_type": "code",
   "execution_count": 51,
   "metadata": {
    "collapsed": false
   },
   "outputs": [],
   "source": [
    "train_0 = model.docvecs['TRAIN_0']"
   ]
  },
  {
   "cell_type": "code",
   "execution_count": 52,
   "metadata": {
    "collapsed": false,
    "scrolled": true
   },
   "outputs": [
    {
     "data": {
      "text/plain": [
       "[('TRAIN_0', 1.0),\n",
       " ('TRAIN_9322', 0.7864269614219666),\n",
       " ('TRAIN_10173', 0.7711612582206726),\n",
       " ('TRAIN_785', 0.7481350898742676),\n",
       " ('TRAIN_3758', 0.7441282272338867)]"
      ]
     },
     "execution_count": 52,
     "metadata": {},
     "output_type": "execute_result"
    }
   ],
   "source": [
    "model.docvecs.most_similar([train_0], topn=5)"
   ]
  },
  {
   "cell_type": "code",
   "execution_count": 60,
   "metadata": {
    "collapsed": false
   },
   "outputs": [
    {
     "name": "stdout",
     "output_type": "stream",
     "text": [
      "速度不错，测试魔兽单机，一点都不卡。功能齐全，4K以下我想应该是性价比相当高的了。\n",
      "1.0\n",
      "每次读这种书，总是受益良多。我们在熙熙攘攘的社会里奔波，太需要这种书来帮助我们。让我们懂得身体的宝贵，珍惜我们的生命，更为重要的是它教会我们如何去保护修复自己的身体，去更好地生活，去更好地实现自己的人生理想。建议每个人都应该有这类书籍，有空多多读读，让自己活得更加轻松愉快。当你按着书的“旨意”去尝试，你也许会有更多的获得。祝你身体健康！\n",
      "1.0\n",
      "酒店的地理位置还算便利，但是酒店的设施非常成旧。前台一听说是携程订的，给的房间全部是陈旧的客房，设施很差，但房价很高。和当地朋友一说，他们认为价格比他们去订高多了！唉……\n",
      "0.0\n"
     ]
    }
   ],
   "source": [
    "print ''.join(x_train[0].words)\n",
    "print y_train[0]\n",
    "print ''.join(x_train[9322].words)\n",
    "print y_train[9322]\n",
    "print ''.join(x_train[10173].words)\n",
    "print y_train[10173]"
   ]
  },
  {
   "cell_type": "code",
   "execution_count": 7,
   "metadata": {
    "collapsed": false,
    "scrolled": false
   },
   "outputs": [
    {
     "data": {
      "text/plain": [
       "array([-0.01165053, -0.00453387, -0.00948982, -0.01274511, -0.01126811,\n",
       "       -0.00794393,  0.01506125, -0.00780007, -0.01146256, -0.00082625,\n",
       "        0.00968573,  0.00338903,  0.0093376 ,  0.00062826, -0.00457715,\n",
       "       -0.02000429, -0.00543132, -0.01115765,  0.00411171,  0.02659816,\n",
       "        0.01863506, -0.00063907,  0.00442604,  0.00013319, -0.00059485,\n",
       "       -0.0215746 , -0.01106862,  0.00161483,  0.01857649,  0.00938686,\n",
       "        0.02693475, -0.01447992,  0.00027773,  0.0083546 , -0.01329132,\n",
       "        0.00081952,  0.01176455, -0.0048128 ,  0.01737118, -0.00794488,\n",
       "        0.00547707,  0.00341952,  0.00387904, -0.00132652,  0.00473905,\n",
       "        0.00313919,  0.01362127, -0.01570269,  0.01050583, -0.00741356,\n",
       "       -0.01361246, -0.00708964,  0.01313181, -0.00848943, -0.00292285,\n",
       "        0.01175815, -0.01380821, -0.01202678,  0.00390187,  0.01166876,\n",
       "        0.00319697, -0.00486824, -0.00777338,  0.00051209, -0.00201229,\n",
       "        0.00134599, -0.00251676, -0.00619263, -0.00628006,  0.00893738,\n",
       "        0.00696591, -0.00343734,  0.00321939, -0.00574339,  0.00999339,\n",
       "       -0.00544232,  0.00986313, -0.00824115, -0.00069643,  0.00986545,\n",
       "       -0.00283848,  0.00387644,  0.00805947, -0.00576852,  0.00196392,\n",
       "       -0.0070604 ,  0.01246663, -0.01026986, -0.00142228,  0.01557835,\n",
       "        0.00938762, -0.00705948,  0.02208102, -0.00198355, -0.00115492,\n",
       "        0.0029957 , -0.00302211, -0.00048735, -0.00014118, -0.00768279], dtype=float32)"
      ]
     },
     "execution_count": 7,
     "metadata": {},
     "output_type": "execute_result"
    }
   ],
   "source": [
    "# what a document vector look like\n",
    "model.docvecs[0]"
   ]
  },
  {
   "cell_type": "code",
   "execution_count": 9,
   "metadata": {
    "collapsed": false,
    "scrolled": true
   },
   "outputs": [
    {
     "name": "stdout",
     "output_type": "stream",
     "text": [
      "没 0.626695275307\n",
      "说 0.59926956892\n",
      "后悔 0.578242897987\n",
      "没有 0.577276229858\n",
      "差 0.576506972313\n",
      ". 0.56924444437\n",
      "就是 0.568525314331\n",
      "是 0.564729690552\n",
      "不爽 0.564680933952\n",
      "！ 0.561031639576\n",
      "\n",
      "\n",
      "是 0.753024876118\n",
      "觉得 0.751504063606\n",
      "看 0.746293842793\n",
      "， 0.743816256523\n",
      "好看 0.74192917347\n",
      "本书 0.736092627048\n",
      "这 0.733344197273\n",
      "。 0.730485022068\n",
      "适合 0.727415621281\n",
      "的 0.726329982281\n"
     ]
    }
   ],
   "source": [
    "for (word, freq) in model.most_similar(u'垃圾'):\n",
    "    print word,freq\n",
    "print '\\n'\n",
    "for (word, freq) in model.most_similar(u'喜欢'):\n",
    "    print word,freq"
   ]
  },
  {
   "cell_type": "markdown",
   "metadata": {},
   "source": [
    "# bag of words method for sentiment analysis"
   ]
  },
  {
   "cell_type": "code",
   "execution_count": 4,
   "metadata": {
    "collapsed": false
   },
   "outputs": [
    {
     "name": "stderr",
     "output_type": "stream",
     "text": [
      "/home/zack/anaconda2/lib/python2.7/site-packages/gensim/utils.py:1015: UserWarning: Pattern library is not installed, lemmatization won't be available.\n",
      "  warnings.warn(\"Pattern library is not installed, lemmatization won't be available.\")\n"
     ]
    }
   ],
   "source": [
    "import os\n",
    "import numpy as np\n",
    "import gensim\n",
    "from sklearn.cross_validation import train_test_split\n",
    "from sklearn.linear_model import LogisticRegression\n",
    "\n",
    "def read_data(filename):\n",
    "    data = {}\n",
    "    files = os.listdir(filename)\n",
    "    neg_files = [neg for neg in files if neg.endswith(\"neg.txt\")]\n",
    "    pos_files = [pos for pos in files if pos.endswith(\"pos.txt\")]\n",
    "    neg_sents = []\n",
    "    pos_sents = []\n",
    "    for i in neg_files:       \n",
    "        with open(i, \"r\") as f:\n",
    "            neg_sents += f.readlines()\n",
    "    for j in pos_files:\n",
    "        with open(j, \"r\") as f:\n",
    "            pos_sents += f.readlines()\n",
    "    data['neg'] = neg_sents\n",
    "    data['pos'] = pos_sents\n",
    "    return data\n",
    "\n",
    "def remove_stopwords(stopwords_path, data):\n",
    "    with open(stopwords_path,'r') as file:  \n",
    "        stop_list = set([line.strip() for line in file])  \n",
    "    data['neg'] = [[word for word in document.split() if word not in stop_list] for document in data['neg']]\n",
    "    data['pos'] = [[word for word in document.split() if word not in stop_list] for document in data['pos']]\n",
    "    return data\n",
    "\n",
    "def vectorize(data):\n",
    "    big_data = data['neg'] + data['pos']\n",
    "    dictionary = gensim.corpora.Dictionary(big_data)\n",
    "    corpus = [dictionary.doc2bow(text) for text in big_data]\n",
    "    #matrix = gensim.matutils.corpus2dense(corpus, num_terms=len(dictionary))\n",
    "    matrix = gensim.matutils.corpus2csc(corpus)\n",
    "    return matrix.T"
   ]
  },
  {
   "cell_type": "code",
   "execution_count": 6,
   "metadata": {
    "collapsed": true
   },
   "outputs": [],
   "source": [
    "def build_model(matrix):\n",
    "    print \"shape of the matrix:  \", matrix.shape\n",
    "    y = np.concatenate((np.ones(8000), np.zeros(8000)), axis=0)\n",
    "    x_train, x_test, y_train, y_test = train_test_split(matrix, y, test_size=0.2)\n",
    "    print \"training set:  \", x_train.shape\n",
    "    print \"test set:  \", x_test.shape\n",
    "    model = LogisticRegression(penalty='l1')\n",
    "    model.fit(x_train, y_train)\n",
    "    print 'Test Accuracy: %.3f'%model.score(x_test, y_test)"
   ]
  },
  {
   "cell_type": "code",
   "execution_count": 6,
   "metadata": {
    "collapsed": false
   },
   "outputs": [
    {
     "name": "stdout",
     "output_type": "stream",
     "text": [
      "number of neg files:  8000\n",
      "number of pos files:  8000\n",
      "没有 想象 的 那么 精彩 实用 很多 观点 比较 片面 ， 感觉 作者 有些 想当然 的 看 问题 了 。\n",
      "\n",
      "没有 想象 那么 精彩 实用 很多 观点 比较 片面 感觉 作者 有些 想当然 看 问题\n"
     ]
    }
   ],
   "source": [
    "data = read_data(\".\")\n",
    "\n",
    "print 'number of neg files: ', len(data['neg'])\n",
    "print 'number of pos files: ', len(data['pos'])\n",
    "# before removing the stop words\n",
    "print data['neg'][0]\n",
    "\n",
    "data1 = remove_stopwords('/home/zack/stop_list_li.txt', data)\n",
    "# after removing the stop words\n",
    "print \" \".join(data1['neg'][0])"
   ]
  },
  {
   "cell_type": "code",
   "execution_count": 7,
   "metadata": {
    "collapsed": false
   },
   "outputs": [
    {
     "name": "stdout",
     "output_type": "stream",
     "text": [
      "data matrix shape:  (16000, 35258)\n"
     ]
    }
   ],
   "source": [
    "data = vectorize(data1)\n",
    "print 'data matrix shape: ', data.shape"
   ]
  },
  {
   "cell_type": "code",
   "execution_count": 1,
   "metadata": {
    "collapsed": false
   },
   "outputs": [],
   "source": [
    "# save matrix in disk\n",
    "import pickle\n",
    "with open('big_matrix.pickle', 'wb') as f:\n",
    "    pickle.dump(data, f)\n",
    "with open('big_matrix.pickle', 'rb') as f:\n",
    "    matrix = pickle.load(f)"
   ]
  },
  {
   "cell_type": "code",
   "execution_count": 10,
   "metadata": {
    "collapsed": false,
    "scrolled": true
   },
   "outputs": [
    {
     "name": "stdout",
     "output_type": "stream",
     "text": [
      "shape of the matrix:   (16000, 35258)\n",
      "training set:   (12800, 35258)\n",
      "test set:   (3200, 35258)\n",
      "Test Accuracy: 0.903\n"
     ]
    }
   ],
   "source": [
    "pred = build_model(matrix)"
   ]
  },
  {
   "cell_type": "code",
   "execution_count": 11,
   "metadata": {
    "collapsed": false
   },
   "outputs": [
    {
     "name": "stdout",
     "output_type": "stream",
     "text": [
      "shape of the matrix:   (16000, 35258)\n",
      "training set:   (12800, 35258)\n",
      "test set:   (3200, 35258)\n",
      "Test Accuracy: 0.911\n"
     ]
    }
   ],
   "source": [
    "from sklearn.svm import SVC\n",
    "\n",
    "def build_model_svc(matrix):\n",
    "    print \"shape of the matrix:  \", matrix.shape\n",
    "    y = np.concatenate((np.ones(8000), np.zeros(8000)), axis=0)\n",
    "    x_train, x_test, y_train, y_test = train_test_split(matrix, y, test_size=0.2)\n",
    "    print \"training set:  \", x_train.shape\n",
    "    print \"test set:  \", x_test.shape\n",
    "    model = SVC(kernel='linear')\n",
    "    model.fit(x_train, y_train)\n",
    "    print 'Test Accuracy: %.3f'%model.score(x_test, y_test)\n",
    "\n",
    "build_model_svc(matrix)"
   ]
  },
  {
   "cell_type": "code",
   "execution_count": 12,
   "metadata": {
    "collapsed": false
   },
   "outputs": [
    {
     "name": "stdout",
     "output_type": "stream",
     "text": [
      "shape of the matrix:   (16000, 35258)\n",
      "training set:   (12800, 35258)\n",
      "test set:   (3200, 35258)\n",
      "Test Accuracy: 0.640\n"
     ]
    }
   ],
   "source": [
    "def build_model_svc(matrix):\n",
    "    print \"shape of the matrix:  \", matrix.shape\n",
    "    y = np.concatenate((np.ones(8000), np.zeros(8000)), axis=0)\n",
    "    x_train, x_test, y_train, y_test = train_test_split(matrix, y, test_size=0.2)\n",
    "    print \"training set:  \", x_train.shape\n",
    "    print \"test set:  \", x_test.shape\n",
    "    model = SVC() # rbf kernel\n",
    "    model.fit(x_train, y_train)\n",
    "    print 'Test Accuracy: %.3f'%model.score(x_test, y_test)\n",
    "\n",
    "build_model_svc(matrix)"
   ]
  },
  {
   "cell_type": "code",
   "execution_count": 14,
   "metadata": {
    "collapsed": false
   },
   "outputs": [
    {
     "name": "stdout",
     "output_type": "stream",
     "text": [
      "shape of the matrix:   (16000, 35258)\n",
      "training set:   (12800, 35258)\n",
      "test set:   (3200, 35258)\n",
      "Test Accuracy: 0.903\n"
     ]
    }
   ],
   "source": [
    "from sklearn.svm import LinearSVC\n",
    "def build_model_linearSvc(matrix):\n",
    "    print \"shape of the matrix:  \", matrix.shape\n",
    "    y = np.concatenate((np.ones(8000), np.zeros(8000)), axis=0)\n",
    "    x_train, x_test, y_train, y_test = train_test_split(matrix, y, test_size=0.2)\n",
    "    print \"training set:  \", x_train.shape\n",
    "    print \"test set:  \", x_test.shape\n",
    "    model = LinearSVC(penalty='l1',dual=False ) # rbf kernel\n",
    "    model.fit(x_train, y_train)\n",
    "    print 'Test Accuracy: %.3f'%model.score(x_test, y_test)\n",
    "\n",
    "build_model_linearSvc(matrix)"
   ]
  },
  {
   "cell_type": "code",
   "execution_count": 15,
   "metadata": {
    "collapsed": false
   },
   "outputs": [
    {
     "name": "stdout",
     "output_type": "stream",
     "text": [
      "shape of the matrix:   (16000, 35258)\n",
      "training set:   (12800, 35258)\n",
      "test set:   (3200, 35258)\n",
      "Test Accuracy: 0.897\n"
     ]
    }
   ],
   "source": [
    "from sklearn.svm import LinearSVC\n",
    "def build_model_linearSvc(matrix):\n",
    "    print \"shape of the matrix:  \", matrix.shape\n",
    "    y = np.concatenate((np.ones(8000), np.zeros(8000)), axis=0)\n",
    "    x_train, x_test, y_train, y_test = train_test_split(matrix, y, test_size=0.2)\n",
    "    print \"training set:  \", x_train.shape\n",
    "    print \"test set:  \", x_test.shape\n",
    "    model = LinearSVC() # rbf kernel\n",
    "    model.fit(x_train, y_train)\n",
    "    print 'Test Accuracy: %.3f'%model.score(x_test, y_test)\n",
    "\n",
    "build_model_linearSvc(matrix)"
   ]
  }
 ],
 "metadata": {
  "kernelspec": {
   "display_name": "Python 2",
   "language": "python",
   "name": "python2"
  },
  "language_info": {
   "codemirror_mode": {
    "name": "ipython",
    "version": 2
   },
   "file_extension": ".py",
   "mimetype": "text/x-python",
   "name": "python",
   "nbconvert_exporter": "python",
   "pygments_lexer": "ipython2",
   "version": "2.7.11"
  }
 },
 "nbformat": 4,
 "nbformat_minor": 0
}
